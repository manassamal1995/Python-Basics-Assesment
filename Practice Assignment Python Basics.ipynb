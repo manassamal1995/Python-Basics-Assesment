{
 "cells": [
  {
   "cell_type": "raw",
   "id": "01c7ec11-59fb-49b9-8de0-42a2f435dced",
   "metadata": {},
   "source": [
    "Q.1 Write a Program to Print Hello World!"
   ]
  },
  {
   "cell_type": "code",
   "execution_count": 1,
   "id": "98e78f36-e541-4e82-8c50-db4ff15bf5df",
   "metadata": {},
   "outputs": [
    {
     "name": "stdout",
     "output_type": "stream",
     "text": [
      "Hello World\n"
     ]
    }
   ],
   "source": [
    "print(\"Hello World\")"
   ]
  },
  {
   "cell_type": "raw",
   "id": "b0360a74-a915-410e-8538-3c56d9258581",
   "metadata": {},
   "source": [
    "Q2. Write a Python program that displays your name and age!"
   ]
  },
  {
   "cell_type": "code",
   "execution_count": 2,
   "id": "761d99da-f3c4-467b-824e-8e9470875eda",
   "metadata": {},
   "outputs": [
    {
     "name": "stdout",
     "output_type": "stream",
     "text": [
      "My Name is:  Manas Ranjan Samal\n",
      "My Age is:  29\n"
     ]
    },
    {
     "name": "stdin",
     "output_type": "stream",
     "text": [
      "Enter Your Name:  Manas Ranjan Samal\n",
      "Enter Your Age:  29\n"
     ]
    },
    {
     "name": "stdout",
     "output_type": "stream",
     "text": [
      "Hello :  Manas Ranjan Samal\n",
      "Your Age is:  29\n"
     ]
    }
   ],
   "source": [
    "# Method 1: \n",
    "\n",
    "Name = \"Manas Ranjan Samal\"\n",
    "Age = 29\n",
    "\n",
    "print(\"My Name is: \", Name)\n",
    "print(\"My Age is: \",Age)\n",
    "\n",
    "# Method 2: \n",
    "\n",
    "Name = input(\"Enter Your Name: \")\n",
    "Age = int(input(\"Enter Your Age: \"))\n",
    "\n",
    "print(\"Hello : \",Name)\n",
    "print(\"Your Age is: \",Age)"
   ]
  },
  {
   "cell_type": "raw",
   "id": "95d003c3-babe-4bb7-89b4-b1c9666ca031",
   "metadata": {},
   "source": [
    "Q3. Write code to print all the pre-defined keywords in Python using the keyword library!"
   ]
  },
  {
   "cell_type": "code",
   "execution_count": 3,
   "id": "53202d17-2af7-473a-9371-68b8317d514e",
   "metadata": {},
   "outputs": [
    {
     "name": "stdout",
     "output_type": "stream",
     "text": [
      "['False', 'None', 'True', 'and', 'as', 'assert', 'async', 'await', 'break', 'class', 'continue', 'def', 'del', 'elif', 'else', 'except', 'finally', 'for', 'from', 'global', 'if', 'import', 'in', 'is', 'lambda', 'nonlocal', 'not', 'or', 'pass', 'raise', 'return', 'try', 'while', 'with', 'yield']\n"
     ]
    }
   ],
   "source": [
    "import keyword\n",
    "print(keyword.kwlist)"
   ]
  },
  {
   "cell_type": "raw",
   "id": "2abfd4fb-3bd3-4bea-b3f6-cf4a8111c200",
   "metadata": {},
   "source": [
    "Q4. Write a program that checks if a given word is a Python keyword."
   ]
  },
  {
   "cell_type": "code",
   "execution_count": 8,
   "id": "02f2dd90-fa35-4cdb-9f5f-2d1cd0105082",
   "metadata": {},
   "outputs": [
    {
     "name": "stdin",
     "output_type": "stream",
     "text": [
      "Enter a word:  while\n"
     ]
    },
    {
     "name": "stdout",
     "output_type": "stream",
     "text": [
      "'while' is a Python keyword.\n"
     ]
    }
   ],
   "source": [
    "import keyword\n",
    "\n",
    "word = input(\"Enter a word: \")\n",
    "\n",
    "if keyword.iskeyword(word):\n",
    "    print(f\"'{word}' is a Python keyword.\")\n",
    "else:\n",
    "    print(f\"'{word}' is not a Python keyword.\")\n"
   ]
  },
  {
   "cell_type": "raw",
   "id": "5286af2e-297f-4b32-98a9-6536975dcb19",
   "metadata": {},
   "source": [
    "Q5. Create a list and tuple in Python, and demonstrate how attempting to change an element works differently\n",
    "for each."
   ]
  },
  {
   "cell_type": "code",
   "execution_count": 9,
   "id": "ebfb5c63-4b24-4f7a-99a4-cf5a471aad6c",
   "metadata": {},
   "outputs": [
    {
     "name": "stdout",
     "output_type": "stream",
     "text": [
      "Updated list: [10, 2, 3, 4]\n",
      "Error: You can't change a tuple!\n"
     ]
    }
   ],
   "source": [
    "my_list = [1, 2, 3, 4]\n",
    "my_tuple = (1, 2, 3, 4)\n",
    "\n",
    "\n",
    "my_list[0] = 10\n",
    "print(\"Updated list:\", my_list)\n",
    "\n",
    "try:\n",
    "    my_tuple[0] = 10\n",
    "except TypeError:\n",
    "    print(\"Error: You can't change a tuple!\")\n"
   ]
  },
  {
   "cell_type": "raw",
   "id": "40eef8b5-483f-49e5-a2d2-1cd56c4b9010",
   "metadata": {},
   "source": [
    "Q6. Write a function to demonstrate the behavior of mutable and immutable arguments."
   ]
  },
  {
   "cell_type": "code",
   "execution_count": 10,
   "id": "2d4990d9-196b-4c7e-b7c2-50ba844193e2",
   "metadata": {},
   "outputs": [
    {
     "name": "stdout",
     "output_type": "stream",
     "text": [
      "Inside function:\n",
      "Mutable argument: [1, 2, 3, 100]\n",
      "Immutable argument: 15\n",
      "\n",
      "Outside function:\n",
      "Mutable argument: [1, 2, 3, 100]\n",
      "Immutable argument: 5\n"
     ]
    }
   ],
   "source": [
    "def modify_arguments(mutable_arg, immutable_arg):\n",
    "    mutable_arg.append(100)\n",
    "    immutable_arg += 10\n",
    "\n",
    "    print(\"Inside function:\")\n",
    "    print(\"Mutable argument:\", mutable_arg)   \n",
    "    print(\"Immutable argument:\", immutable_arg)  \n",
    "\n",
    "\n",
    "my_list = [1, 2, 3]\n",
    "my_number = 5\n",
    "\n",
    "\n",
    "modify_arguments(my_list, my_number)\n",
    "\n",
    "\n",
    "print(\"\\nOutside function:\")\n",
    "print(\"Mutable argument:\", my_list)  \n",
    "print(\"Immutable argument:\", my_number) \n"
   ]
  },
  {
   "cell_type": "raw",
   "id": "062ef60b-710b-4b82-bf7a-46c0b04c9b3f",
   "metadata": {},
   "source": [
    "Q7.  Write a program that performs basic arithmetic operations on two user-input numbers."
   ]
  },
  {
   "cell_type": "code",
   "execution_count": 14,
   "id": "d9357ea3-358e-4a6f-a2fc-6c41b9d6ef96",
   "metadata": {},
   "outputs": [
    {
     "name": "stdout",
     "output_type": "stream",
     "text": [
      "With Using Iput Funtion\n"
     ]
    },
    {
     "name": "stdin",
     "output_type": "stream",
     "text": [
      "Enter the First Number:  250\n",
      "Enter the Second Number:  25\n"
     ]
    },
    {
     "name": "stdout",
     "output_type": "stream",
     "text": [
      "Addtion of 2 Number is :  275\n",
      "Substraction of 2 Number is :  225\n",
      "Multiplication of 2 Number is :  6250\n",
      "Division of 2 Number is :  10.0\n",
      "Modulus of 2 Number is :  0\n",
      "Quadrant of 2 Number is :  10\n",
      "Exponential of 2 Number is :  888178419700125232338905334472656250000000000000000000000000\n"
     ]
    }
   ],
   "source": [
    "print(\"With Using Iput Funtion\")\n",
    "\n",
    "# Additon\n",
    "Number_1 = int(input(\"Enter the First Number: \"))\n",
    "Number_2 = int(input(\"Enter the Second Number: \"))\n",
    "print(\"Addtion of 2 Number is : \",Number_1+Number_2)\n",
    "\n",
    "#Substraction\n",
    "#Number_1 = int(input(\"Enter the First Number: \"))\n",
    "#Number_2 = int(input(\"Enter the Second Number: \"))\n",
    "print(\"Substraction of 2 Number is : \",Number_1-Number_2)\n",
    "\n",
    "#Multiplication\n",
    "#Number_1 = int(input(\"Enter the First Number: \"))\n",
    "#Number_2 = int(input(\"Enter the Second Number: \"))\n",
    "print(\"Multiplication of 2 Number is : \",Number_1*Number_2)\n",
    "\n",
    "#Division\n",
    "#Number_1 = int(input(\"Enter the First Number: \"))\n",
    "#Number_2 = int(input(\"Enter the Second Number: \"))\n",
    "\n",
    "print(\"Division of 2 Number is : \",Number_1/Number_2)\n",
    "\n",
    "#Modular\n",
    "#Number_1 = int(input(\"Enter the First Number: \"))\n",
    "#Number_2 = int(input(\"Enter the Second Number: \"))\n",
    "\n",
    "print(\"Modulus of 2 Number is : \",Number_1%Number_2)\n",
    "\n",
    "#Quadrant\n",
    "#Number_1 = int(input(\"Enter the First Number: \"))\n",
    "#Number_2 = int(input(\"Enter the Second Number: \"))\n",
    "\n",
    "print(\"Quadrant of 2 Number is : \",Number_1//Number_2)\n",
    "\n",
    "#Exponential\n",
    "#Number_1 = int(input(\"Enter the First Number: \"))\n",
    "#Number_2 = int(input(\"Enter the Second Number: \"))\n",
    "\n",
    "print(\"Exponential of 2 Number is : \", Number_1**Number_2)"
   ]
  },
  {
   "cell_type": "raw",
   "id": "65f30bd7-cc56-4b8a-b8bd-da903e8af503",
   "metadata": {},
   "source": [
    "Q8.  Write a program to demonstrate the use of logical operators."
   ]
  },
  {
   "cell_type": "code",
   "execution_count": 30,
   "id": "d7a7cc34-15ce-43e4-9099-98424c88fd82",
   "metadata": {},
   "outputs": [
    {
     "name": "stdout",
     "output_type": "stream",
     "text": [
      "Without If Else Condition\n",
      "------------------------\n",
      "False\n",
      "False\n",
      "False\n",
      " \n",
      "With If Else Condition\n",
      "------------------------\n",
      "No Condition not Satisfied\n",
      "No Condition not Satisfied\n",
      "No Condition not Satisfied\n"
     ]
    }
   ],
   "source": [
    "#Without If Else Operator \n",
    "a = 5\n",
    "b = 10\n",
    "c = 100\n",
    "print(\"Without If Else Condition\")\n",
    "print(\"------------------------\")\n",
    "print(a < b and b > c)  \n",
    "\n",
    "print(a > b or b > c)   \n",
    "\n",
    "print(not c)    \n",
    "print(\" \")\n",
    "print(\"With If Else Condition\")\n",
    "print(\"------------------------\")\n",
    "if a < b and b > c:\n",
    "    print(\"Both conditions are true with 'and'\")\n",
    "\n",
    "else :\n",
    "    print(\"No Condition not Satisfied\")\n",
    "\n",
    "if a > b or b > c:\n",
    "    print(\"At least one condition is true with 'or'\")\n",
    "\n",
    "else :\n",
    "    print(\"No Condition not Satisfied\")\n",
    "\n",
    "if not c:\n",
    "    print(\"The value of c is 0, so 'not c' is True\")\n",
    "\n",
    "else :\n",
    "    print(\"No Condition not Satisfied\")\n",
    "\n"
   ]
  },
  {
   "cell_type": "raw",
   "id": "473571e8-7ae6-44ed-bc37-5baac078cbe5",
   "metadata": {},
   "source": [
    "Q9. Write a Python program to convert user input from string to integer, float, and boolean types."
   ]
  },
  {
   "cell_type": "code",
   "execution_count": 56,
   "id": "d5def86d-907b-4997-95d7-a84ca8101c8f",
   "metadata": {},
   "outputs": [
    {
     "name": "stdin",
     "output_type": "stream",
     "text": [
      "Enter User Input:  12\n"
     ]
    },
    {
     "name": "stdout",
     "output_type": "stream",
     "text": [
      "currently the Input is in String type Because we did not Assign Data Type to the Input Function and by Default input funtion is String\n",
      "Verify Datatype: \n",
      "<class 'str'>\n",
      "Let's Convert the Datatype\n",
      " \n",
      " \n",
      " \n",
      "The Input is 12\n",
      "------------------------------------\n",
      "The Type of User_Input is: \n",
      "<class 'int'>\n",
      "------------------------------------\n",
      " \n",
      " \n",
      "The Input is 12.0\n",
      "------------------------------------\n",
      "The Type of User_Input is: \n",
      "<class 'float'>\n",
      "------------------------------------\n",
      " \n",
      " \n",
      "The Input is list['12', 0, 5]\n",
      "------------------------------------\n",
      "The Type of User_Input is: \n",
      "<class 'types.GenericAlias'>\n",
      "------------------------------------\n",
      " \n",
      " \n",
      "The Input is True\n",
      "------------------------------------\n",
      "The Type of User_Input is: \n",
      "<class 'bool'>\n",
      "------------------------------------\n"
     ]
    }
   ],
   "source": [
    "User_Input = input(\"Enter User Input: \")\n",
    "print(\"currently the Input is in String type Because we did not Assign Data Type to the Input Function and by Default input funtion is String\")\n",
    "print(\"Verify Datatype: \")\n",
    "print(type(User_Input))\n",
    "print(\"Let's Convert the Datatype\")\n",
    "Intiger = int(User_Input)\n",
    "print(\" \")\n",
    "print(\" \")\n",
    "print(\" \")\n",
    "print(\"The Input is\", Intiger)\n",
    "print(\"------------------------------------\")\n",
    "print(\"The Type of User_Input is: \")\n",
    "print(type(Intiger))\n",
    "print(\"------------------------------------\")\n",
    "print(\" \")\n",
    "print(\" \")\n",
    "Float = float(User_Input)\n",
    "print(\"The Input is\", Float)\n",
    "print(\"------------------------------------\")\n",
    "print(\"The Type of User_Input is: \")\n",
    "print(type(Float))\n",
    "print(\"------------------------------------\")\n",
    "print(\" \")\n",
    "print(\" \")\n",
    "List = list['User_Input','0','5']\n",
    "print(\"The Input is\", List)\n",
    "print(\"------------------------------------\")\n",
    "print(\"The Type of User_Input is: \")\n",
    "print(type(List))\n",
    "#print(List[User_Input])\n",
    "#print(type(List[1]))\n",
    "#print(type(List[2]))\n",
    "print(\"------------------------------------\")\n",
    "print(\" \")\n",
    "print(\" \")\n",
    "Boolen = bool(User_Input)\n",
    "print(\"The Input is\", Boolen)\n",
    "print(\"------------------------------------\")\n",
    "print(\"The Type of User_Input is: \")\n",
    "print(type(Boolen))\n",
    "print(\"------------------------------------\")\n",
    "\n",
    "\n"
   ]
  },
  {
   "cell_type": "raw",
   "id": "2bf39c4f-0459-4ede-bea8-82959ee87bbd",
   "metadata": {},
   "source": [
    "Q10. Write code to demonstrate type casting with list elements."
   ]
  },
  {
   "cell_type": "code",
   "execution_count": 58,
   "id": "98593af0-229b-498d-9aa2-a0779c2a171e",
   "metadata": {},
   "outputs": [
    {
     "name": "stdout",
     "output_type": "stream",
     "text": [
      "List casted to integers: [1, 2, 3, 4, 5, 6]\n",
      "List casted to floats: [1.0, 2.0, 3.5, 4.0, 5.75, 6.25]\n"
     ]
    }
   ],
   "source": [
    "mixed_list = ['1', '2', '3.5', 4, 5.75, '6.25']\n",
    "\n",
    "def cast_to_int(lst):\n",
    "    int_list = []\n",
    "    for element in lst:\n",
    "        try:\n",
    "            int_list.append(int(float(element)))  # Convert element to float first and then to int\n",
    "        except ValueError:\n",
    "            print(f\"Cannot cast {element} to an integer.\")\n",
    "    return int_list\n",
    "\n",
    "def cast_to_float(lst):\n",
    "    float_list = []\n",
    "    for element in lst:\n",
    "        try:\n",
    "            float_list.append(float(element))  # Convert element to float\n",
    "        except ValueError:\n",
    "            print(f\"Cannot cast {element} to a float.\")\n",
    "    return float_list\n",
    "\n",
    "int_list = cast_to_int(mixed_list)\n",
    "print(\"List casted to integers:\", int_list)\n",
    "\n",
    "float_list = cast_to_float(mixed_list)\n",
    "print(\"List casted to floats:\", float_list)\n"
   ]
  },
  {
   "cell_type": "raw",
   "id": "a3a4d719-2366-4f04-a174-4df525f28165",
   "metadata": {},
   "source": [
    "Q11. Write a program that checks if a number is positive, negative, or zero."
   ]
  },
  {
   "cell_type": "code",
   "execution_count": 83,
   "id": "a26ec14f-1e68-4722-87d9-e76d278cde1c",
   "metadata": {},
   "outputs": [
    {
     "name": "stdin",
     "output_type": "stream",
     "text": [
      "Enter The Number:  15\n"
     ]
    },
    {
     "name": "stdout",
     "output_type": "stream",
     "text": [
      "Positive\n"
     ]
    }
   ],
   "source": [
    "try:\n",
    "    Number = int(input(\"Enter The Number: \"))\n",
    "    \n",
    "    if Number > 0:\n",
    "        print(\"Positive\")\n",
    "    elif Number < 0:\n",
    "        print(\"Nagative\")\n",
    "    else:\n",
    "        print(\"Zero\")\n",
    "        \n",
    "except ValurErrore:\n",
    "    print(\"Invalid Input\")"
   ]
  },
  {
   "cell_type": "raw",
   "id": "1bd9b63f-3b73-4f79-a17d-dd24df1c1d6d",
   "metadata": {},
   "source": [
    "Q12. Write a for loop to print numbers from 1 to 10."
   ]
  },
  {
   "cell_type": "code",
   "execution_count": 91,
   "id": "549d5aa8-b84d-4218-94f8-ad5fb745f7bf",
   "metadata": {},
   "outputs": [
    {
     "name": "stdout",
     "output_type": "stream",
     "text": [
      "1\n",
      "2\n",
      "3\n",
      "4\n",
      "5\n",
      "6\n",
      "7\n",
      "8\n",
      "9\n"
     ]
    }
   ],
   "source": [
    "for i in range(1, 10):\n",
    "  #  if i%2==1:\n",
    "        print(i)"
   ]
  },
  {
   "cell_type": "raw",
   "id": "59e2b1f7-813b-45a6-b309-66a98632934a",
   "metadata": {},
   "source": [
    "Q13. Write a Python program to find the sum of all even numbers between 1 and 50."
   ]
  },
  {
   "cell_type": "code",
   "execution_count": 105,
   "id": "6c4d02ae-4752-43d4-ad9c-8c2b1096cb73",
   "metadata": {},
   "outputs": [
    {
     "name": "stdout",
     "output_type": "stream",
     "text": [
      "the Total Addition of Even Numbers Are:  650\n"
     ]
    }
   ],
   "source": [
    "Addition = 0\n",
    "\n",
    "for Number in range (1, 51):\n",
    "    if Number % 2 == 0:\n",
    "        Addition = Addition + Number\n",
    "\n",
    "\n",
    "print(\"the Total Addition of Even Numbers Are: \", Addition)\n",
    "    "
   ]
  },
  {
   "cell_type": "raw",
   "id": "e414eac8-de10-415b-8335-6bb1d86d2140",
   "metadata": {},
   "source": [
    "Q14. Write a program to reverse a string using a while loop."
   ]
  },
  {
   "cell_type": "code",
   "execution_count": 108,
   "id": "00aa4ce0-691e-4b14-94bd-5109cdaba423",
   "metadata": {},
   "outputs": [
    {
     "name": "stdin",
     "output_type": "stream",
     "text": [
      "Enter a string:  Elephant\n"
     ]
    },
    {
     "name": "stdout",
     "output_type": "stream",
     "text": [
      "Reversed string: tnahpelE\n"
     ]
    }
   ],
   "source": [
    "s = input(\"Enter a string: \")\n",
    "reversed_str = \"\"\n",
    "index = len(s) - 1  # Start from the last character\n",
    "\n",
    "while index >= 0:\n",
    "    reversed_str = reversed_str+ s[index]\n",
    "    index = index - 1  \n",
    "print(\"Reversed string:\", reversed_str)\n"
   ]
  },
  {
   "cell_type": "raw",
   "id": "58d73097-c34a-4433-bc78-d517f7d0abaf",
   "metadata": {},
   "source": [
    "Q15. Write a Python program to calculate the factorial of a number provided by the user using a while loop."
   ]
  },
  {
   "cell_type": "code",
   "execution_count": 109,
   "id": "ce732eb7-1820-4fc6-b6a1-fc8ffb6d96c4",
   "metadata": {},
   "outputs": [
    {
     "name": "stdin",
     "output_type": "stream",
     "text": [
      "Enter a number to find its factorial:  15\n"
     ]
    },
    {
     "name": "stdout",
     "output_type": "stream",
     "text": [
      "The factorial of 15 is 1307674368000\n"
     ]
    }
   ],
   "source": [
    "number = int(input(\"Enter a number to find its factorial: \"))\n",
    "\n",
    "if number < 0:\n",
    "    print(\"Factorial is not defined for negative numbers.\")\n",
    "else:\n",
    "    result = 1\n",
    "    original_number = number\n",
    "\n",
    "    while number > 0:\n",
    "        result *= number\n",
    "        number -= 1\n",
    "\n",
    "    print(f\"The factorial of {original_number} is {result}\")\n"
   ]
  },
  {
   "cell_type": "code",
   "execution_count": null,
   "id": "253c8960-35c1-4e64-af4f-af5e60d5d8ed",
   "metadata": {},
   "outputs": [],
   "source": []
  }
 ],
 "metadata": {
  "kernelspec": {
   "display_name": "Python 3 (ipykernel)",
   "language": "python",
   "name": "python3"
  },
  "language_info": {
   "codemirror_mode": {
    "name": "ipython",
    "version": 3
   },
   "file_extension": ".py",
   "mimetype": "text/x-python",
   "name": "python",
   "nbconvert_exporter": "python",
   "pygments_lexer": "ipython3",
   "version": "3.12.7"
  }
 },
 "nbformat": 4,
 "nbformat_minor": 5
}
